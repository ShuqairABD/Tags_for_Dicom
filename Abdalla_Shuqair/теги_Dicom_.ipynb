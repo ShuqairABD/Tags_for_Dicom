{
  "nbformat": 4,
  "nbformat_minor": 0,
  "metadata": {
    "colab": {
      "provenance": [],
      "authorship_tag": "ABX9TyOWpKMRuWGjyIEIbyIwTMjN",
      "include_colab_link": true
    },
    "kernelspec": {
      "name": "python3",
      "display_name": "Python 3"
    },
    "language_info": {
      "name": "python"
    }
  },
  "cells": [
    {
      "cell_type": "markdown",
      "metadata": {
        "id": "view-in-github",
        "colab_type": "text"
      },
      "source": [
        "<a href=\"https://colab.research.google.com/github/ShuqairABD/Tags_for_Dicom/blob/main/Abdalla_Shuqair/%D1%82%D0%B5%D0%B3%D0%B8_Dicom_.ipynb\" target=\"_parent\"><img src=\"https://colab.research.google.com/assets/colab-badge.svg\" alt=\"Open In Colab\"/></a>"
      ]
    },
    {
      "cell_type": "markdown",
      "source": [
        "## **start**"
      ],
      "metadata": {
        "id": "kULJSFcHjxNu"
      }
    },
    {
      "cell_type": "code",
      "execution_count": null,
      "metadata": {
        "colab": {
          "base_uri": "https://localhost:8080/"
        },
        "id": "gvDwQwQxQTJG",
        "outputId": "2f7d9e67-7572-4ae2-ae64-443a1f7b4a81"
      },
      "outputs": [
        {
          "output_type": "stream",
          "name": "stdout",
          "text": [
            "Collecting pydicom\n",
            "  Downloading pydicom-2.4.4-py3-none-any.whl (1.8 MB)\n",
            "\u001b[2K     \u001b[90m━━━━━━━━━━━━━━━━━━━━━━━━━━━━━━━━━━━━━━━━\u001b[0m \u001b[32m1.8/1.8 MB\u001b[0m \u001b[31m11.4 MB/s\u001b[0m eta \u001b[36m0:00:00\u001b[0m\n",
            "\u001b[?25hInstalling collected packages: pydicom\n",
            "Successfully installed pydicom-2.4.4\n"
          ]
        }
      ],
      "source": [
        "!pip install pydicom\n"
      ]
    },
    {
      "cell_type": "code",
      "source": [
        "import os\n",
        "import pydicom"
      ],
      "metadata": {
        "id": "LZLiW6sPjPzb"
      },
      "execution_count": null,
      "outputs": []
    },
    {
      "cell_type": "markdown",
      "source": [
        "## **Просмотр тегов**"
      ],
      "metadata": {
        "id": "EbcNXQEbQml5"
      }
    },
    {
      "cell_type": "code",
      "source": [
        "\n",
        "def view_tags(dicom_file_path):\n",
        "    # загрузка теги\n",
        "    ds = pydicom.dcmread(dicom_file_path)\n",
        "\n",
        "    # вывод теги\n",
        "    for elem in ds:\n",
        "        print(f\"{elem.tag} {elem.name}: {elem.value}\")\n",
        "\n",
        "folder_path = '/content/test_dcm'\n",
        "\n",
        "# обработка DICOM и вывод теги\n",
        "for filename in os.listdir(folder_path):\n",
        "    if filename.lower().endswith('.dcm'):\n",
        "        dicom_file_path = os.path.join(folder_path, filename)\n",
        "        print(f\"Tags for {filename}:\")\n",
        "        view_tags(dicom_file_path)\n",
        "        print(\"\\n\")\n"
      ],
      "metadata": {
        "collapsed": true,
        "id": "W77nRuCJhiks"
      },
      "execution_count": null,
      "outputs": []
    },
    {
      "cell_type": "markdown",
      "source": [
        "## **Удаление тегов**"
      ],
      "metadata": {
        "id": "6CmLepr5QvMJ"
      }
    },
    {
      "cell_type": "code",
      "source": [
        "def remove_tags(dicom_file_path, tags_to_remove):\n",
        "    # загрузка DICOM file\n",
        "    ds = pydicom.dcmread(dicom_file_path)\n",
        "\n",
        "    # удаление теги\n",
        "    for tag in tags_to_remove:\n",
        "        if tag in ds:\n",
        "            del ds[tag]\n",
        "\n",
        "    ds.save_as(dicom_file_path)\n",
        "\n",
        "tags_to_remove = [\n",
        "    (0x0010, 0x0010),  # ИМЯ\n",
        "    (0x0010, 0x0020),  # ID\n",
        "]\n",
        "\n",
        "for filename in os.listdir(folder_path):\n",
        "    if filename.lower().endswith('.dcm'):\n",
        "        dicom_file_path = os.path.join(folder_path, filename)\n",
        "        remove_tags(dicom_file_path, tags_to_remove)\n",
        "\n",
        "print(\"Tags removed from DICOM files successfully.\")\n"
      ],
      "metadata": {
        "colab": {
          "base_uri": "https://localhost:8080/"
        },
        "id": "cuIvtmJoQxBv",
        "outputId": "f5657bbf-ba63-44dd-bbe9-de2e5cedf844"
      },
      "execution_count": null,
      "outputs": [
        {
          "output_type": "stream",
          "name": "stdout",
          "text": [
            "Tags removed from DICOM files successfully.\n"
          ]
        }
      ]
    }
  ]
}